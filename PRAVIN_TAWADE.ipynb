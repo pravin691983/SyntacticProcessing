{
  "cells": [
    {
      "cell_type": "markdown",
      "metadata": {
        "id": "EyiGOxJ1uQC4"
      },
      "source": [
        "#  Identifying Entities in Healthcare Data\n",
        "Syntactic Processing Assignment:"
      ]
    },
    {
      "cell_type": "markdown",
      "metadata": {
        "id": "KerpgR4TuQC8"
      },
      "source": [
        "# Problem Statement"
      ]
    },
    {
      "cell_type": "markdown",
      "metadata": {
        "id": "rWp8G9NmuQC8"
      },
      "source": [
        "Now, let’s consider a hypothetical example of a health tech company called ‘BeHealthy’. Suppose ‘BeHealthy’ aims to connect the medical communities with millions of patients across the country. \n",
        "\n",
        " \n",
        "\n",
        "‘BeHealthy’ has a web platform that allows doctors to list their services and manage patient interactions and provides services for patients such as booking interactions with doctors and ordering medicines online. Here, doctors can easily organise appointments, track past medical records and provide e-prescriptions.\n",
        "\n",
        " \n",
        "\n",
        "So, companies like ‘BeHealthy’ are providing medical services, prescriptions and online consultations and generating huge data day by day.\n",
        "\n",
        " \n",
        "\n",
        "Let’s take a look at the following snippet of medical data that may be generated when a doctor is writing notes to his/her patient or as a review of a therapy that he or she has done.\n",
        "\n",
        " \n",
        "\n",
        "“The patient was a 62-year-old man with squamous cell lung cancer, which was first successfully treated by a combination of radiation therapy and chemotherapy.”\n",
        "\n",
        " \n",
        "\n",
        "As you can see in this text, a person with a non-medical background cannot understand the various medical terms. We have taken a simple sentence from a medical data set to understand the problem and where you can understand the terms ‘cancer’ and ‘chemotherapy’. \n",
        "\n",
        " \n",
        "\n",
        "Suppose you have been given such a data set in which a lot of text is written related to the medical domain. As you can see in the dataset, there are a lot of diseases that can be mentioned in the entire dataset and their related treatments are also mentioned implicitly in the text, which you saw in the aforementioned example that the disease mentioned is cancer and its treatment can be identified as chemotherapy using the sentence.\n",
        "\n",
        " \n",
        "\n",
        "But, note that it is not explicitly mentioned in the dataset about the diseases and their treatment, but somehow, you can build an algorithm to map the diseases and their respective treatment.\n",
        "\n",
        " \n",
        "\n",
        "Suppose you have been asked to determine the disease name and its probable treatment from the dataset and list it out in the form of a table or a dictionary like this."
      ]
    },
    {
      "cell_type": "markdown",
      "source": [
        "<p>\n",
        "<img src =\"https://images.upgrad.com/0891d77b-b9ca-4e9d-8934-d9a9b078a51c-syntactic%20sol%20pic1.png\" alt='Figure 1'>\n",
        "<center> <b>Figure 1. BookBikes</b> </center> \n",
        " </br>  \n",
        "</p>"
      ],
      "metadata": {
        "id": "NwhwNhY9mAQT"
      }
    },
    {
      "cell_type": "markdown",
      "metadata": {
        "id": "7NA7X1e4uQC9"
      },
      "source": [
        "# Business Objectives"
      ]
    },
    {
      "cell_type": "markdown",
      "metadata": {
        "id": "MrMi6iv7uQC9"
      },
      "source": [
        "BeHealthy require **predictive model** which can **identify disease and treatment** from the patients interaction with doctor or ordering medicines online.\n",
        "\n",
        "By observing the requirement, it is clearly visible that we have to process the textual sentence and identify the entities like Disease and Treatment. We can predict these all requirements using\n",
        "  -  CRF (Conditional Random Field) classifier\n",
        "  -  Random Forest Classifier\n",
        "  -  HMM (Hidden Markov Model)"
      ]
    },
    {
      "cell_type": "markdown",
      "metadata": {
        "id": "BsDWGz2juQC-"
      },
      "source": [
        "# IMPORT LIBRARIES AND DATASETS"
      ]
    },
    {
      "cell_type": "code",
      "source": [
        "!pip install pycrf\n",
        "!pip install sklearn-crfsuite"
      ],
      "metadata": {
        "colab": {
          "base_uri": "https://localhost:8080/"
        },
        "id": "RQ4Qadm3vepJ",
        "outputId": "a2d9586a-9b19-4297-c56b-880a936832da"
      },
      "execution_count": 1,
      "outputs": [
        {
          "output_type": "stream",
          "name": "stdout",
          "text": [
            "Looking in indexes: https://pypi.org/simple, https://us-python.pkg.dev/colab-wheels/public/simple/\n",
            "Collecting pycrf\n",
            "  Downloading pycrf-0.0.1.tar.gz (1.1 kB)\n",
            "  Preparing metadata (setup.py) ... \u001b[?25l\u001b[?25hdone\n",
            "Building wheels for collected packages: pycrf\n",
            "  Building wheel for pycrf (setup.py) ... \u001b[?25l\u001b[?25hdone\n",
            "  Created wheel for pycrf: filename=pycrf-0.0.1-py3-none-any.whl size=1897 sha256=e5358a1e357aad7bda33dca0a130fc87ba5ee063e1fbb51ee2fab45865b1bb66\n",
            "  Stored in directory: /root/.cache/pip/wheels/da/5c/29/bf862cc934550145485b0e0502cb8deadffb387f6a096e4b5f\n",
            "Successfully built pycrf\n",
            "Installing collected packages: pycrf\n",
            "Successfully installed pycrf-0.0.1\n",
            "Looking in indexes: https://pypi.org/simple, https://us-python.pkg.dev/colab-wheels/public/simple/\n",
            "Collecting sklearn-crfsuite\n",
            "  Downloading sklearn_crfsuite-0.3.6-py2.py3-none-any.whl (12 kB)\n",
            "Collecting python-crfsuite>=0.8.3\n",
            "  Downloading python_crfsuite-0.9.9-cp39-cp39-manylinux_2_17_x86_64.manylinux2014_x86_64.whl (1.0 MB)\n",
            "\u001b[2K     \u001b[90m━━━━━━━━━━━━━━━━━━━━━━━━━━━━━━━━━━━━━━━━\u001b[0m \u001b[32m1.0/1.0 MB\u001b[0m \u001b[31m13.0 MB/s\u001b[0m eta \u001b[36m0:00:00\u001b[0m\n",
            "\u001b[?25hRequirement already satisfied: tabulate in /usr/local/lib/python3.9/dist-packages (from sklearn-crfsuite) (0.8.10)\n",
            "Requirement already satisfied: six in /usr/local/lib/python3.9/dist-packages (from sklearn-crfsuite) (1.15.0)\n",
            "Requirement already satisfied: tqdm>=2.0 in /usr/local/lib/python3.9/dist-packages (from sklearn-crfsuite) (4.65.0)\n",
            "Installing collected packages: python-crfsuite, sklearn-crfsuite\n",
            "Successfully installed python-crfsuite-0.9.9 sklearn-crfsuite-0.3.6\n"
          ]
        }
      ]
    },
    {
      "cell_type": "code",
      "execution_count": 2,
      "metadata": {
        "colab": {
          "base_uri": "https://localhost:8080/"
        },
        "id": "wFTS1hy6uQC-",
        "outputId": "af56a499-6308-4567-8a6d-1d82482bede0"
      },
      "outputs": [
        {
          "output_type": "stream",
          "name": "stderr",
          "text": [
            "/usr/local/lib/python3.9/dist-packages/torch/cuda/__init__.py:497: UserWarning: Can't initialize NVML\n",
            "  warnings.warn(\"Can't initialize NVML\")\n"
          ]
        }
      ],
      "source": [
        "# import package\n",
        "import numpy as np                                                 # Implemennts milti-dimensional array and matrices\n",
        "import pandas as pd                                                # For data manipulation and analysis\n",
        "import matplotlib.pyplot as plt                                    # Plotting library for Python programming language and it's numerical mathematics extension NumPy\n",
        "import seaborn as sns                                              # Provides a high level interface for drawing attractive and informative statistical graphics\n",
        "\n",
        "import re                                                          # Regular expressions \n",
        "import spacy                                                       #  NLP, POS tag check\n",
        "\n",
        "pd.set_option('display.max_columns', None)\n",
        "%matplotlib inline\n",
        "sns.set()\n"
      ]
    },
    {
      "cell_type": "code",
      "execution_count": 3,
      "metadata": {
        "id": "qvMw9QSnuQDA"
      },
      "outputs": [],
      "source": [
        "import warnings\n",
        "warnings.filterwarnings('ignore')"
      ]
    },
    {
      "cell_type": "markdown",
      "metadata": {
        "id": "wF4ETWBCuQDA"
      },
      "source": [
        "## Data Loading and Description"
      ]
    },
    {
      "cell_type": "markdown",
      "metadata": {
        "id": "gHyDFBPvuQDB"
      },
      "source": [
        "- **Data Set** - It contains four data file for this activity to proceed, they are\n",
        "  - Train Sentence Dataset\n",
        "  - Train Label Dataset\n",
        "  - Test Sentence Dataset\n",
        "  - Test Label Dataset\n",
        "\n",
        "Sentence file contains all interations between patients and doctor and Label file contains all enitiy tags for particular words arranged as per sentence. We need to do few preprocessing while accessing dataset we will explore that in further steps.\n",
        "\n",
        "We have the train and the test datasets; the train dataset is used to train the CRF model, and the test dataset is used to evaluate the built model.\n",
        "\n",
        "Let’s take a look at the structure of these datasets using the image provided below."
      ]
    },
    {
      "cell_type": "markdown",
      "source": [
        "<p>\n",
        "<img src =\"https://images.upgrad.com/af3536e2-c88f-42f1-8dda-fa563763ecff-Syntactic%20sol%20pic2.png\" alt='Figure 1'>\n",
        "<center> <b>Figure 1. BookBikes</b> </center> \n",
        " </br>  \n",
        "</p>"
      ],
      "metadata": {
        "id": "vSt04B3Fmtxm"
      }
    },
    {
      "cell_type": "markdown",
      "source": [
        "Here, we need to understand that each word in this dataset is provided in a single line. So, first, we need to club all these words together to form the sentences. Moreover, there are blank lines given in the dataset that have been highlighted in the image given above. These blank lines indicate that a new sentence is starting from the next line onwards to the next blank line.\n",
        "\n",
        "In the image provided above, you need to make the sentences in the following way:\n",
        "\n",
        "Sentence1: …using a Spearman-rank Correlation\n",
        "Sentence2: This relationship should be taken into account when interpreting the AFI as a measure of fetal well-being.\n",
        "Sentence3: The study population…\n",
        "...and so on.\n",
        "\n",
        "\n",
        "We can also refer to the image given below to get a better idea on how to create sentences from words."
      ],
      "metadata": {
        "id": "r7uPGU6zm6K8"
      }
    },
    {
      "cell_type": "markdown",
      "source": [
        "<p>\n",
        "<img src =\"https://images.upgrad.com/2a1ec8a4-e26c-4b5b-bfe0-1816d14a4a30-syntactic%20sol%20pic3.png\" alt='Figure 1'>\n",
        "<center> <b>Figure 1. BookBikes</b> </center> \n",
        " </br>  \n",
        "</p>"
      ],
      "metadata": {
        "id": "Ivw9T3gynDQN"
      }
    },
    {
      "cell_type": "markdown",
      "source": [
        "In this ‘train_sent’ dataset, there are a total of **2,599** sentences when you form the sentences from the words. Similarly, there are a total of **1,056** sentences in the ‘test_sent’ dataset when you form the sentences from the words.\n",
        "\n",
        "Now, let’s take a look at the next datasets that are named ‘train_label’ and ‘test_label’."
      ],
      "metadata": {
        "id": "VNiVTP17nSWG"
      }
    },
    {
      "cell_type": "markdown",
      "source": [
        "<p>\n",
        "<img src =\"https://images.upgrad.com/bdd7f8f5-0fbb-4b46-9c2c-500a68c40d2e-syntactic%20sol%20pic4.png\" alt='Figure 1'>\n",
        "<center> <b>Figure 1. BookBikes</b> </center> \n",
        " </br>  \n",
        "</p>\n"
      ],
      "metadata": {
        "id": "qpfJ4uySnX3M"
      }
    },
    {
      "cell_type": "markdown",
      "source": [
        "The above dataset is about the labels corresponding to the diseases and the treatment. There are three labels that have been used in this dataset: O, D and T, which are corresponding to ‘Other’, ‘Disease’ and ‘Treatment’, respectively.\n",
        "\n",
        " \n",
        "\n",
        "These labels correspond to each word that is available in the ‘train_sent’ and 'test_sent' datasets. So, there is one-to-one mapping of each label available in the 'train_label' and 'test_label' datasets with the words that are available in the 'train_sent' and 'test_sent' datasets, respectively. \n",
        "\n",
        "We need to again create the lines of labels corresponding to each sentence in the ‘train_sent’ and the ‘test_sent’ datasets as shown below."
      ],
      "metadata": {
        "id": "fdh6a4e4ng8e"
      }
    },
    {
      "cell_type": "markdown",
      "source": [
        "<p>\n",
        "<img src =\"https://images.upgrad.com/cad61c6d-534f-4452-81e6-dc02d7c8fcde-syntactic%20sol%20pic5.png\" alt='Figure 1'>\n",
        "<center> <b>Figure 1. BookBikes</b> </center> \n",
        " </br>  \n",
        "</p>\n"
      ],
      "metadata": {
        "id": "DYMW6UGmnmtS"
      }
    },
    {
      "cell_type": "markdown",
      "source": [
        "So, in this ‘train_label’ dataset, there are a total of **2,599** lines of labels when you form the lines from the label dataset. Similarly, there are a total of **1,056** lines of labels in the ‘test_label’ dataset when you form the lines from the label dataset.\n",
        "\n",
        " \n",
        "\n",
        "In this assignment, you need to perform the following broad steps:\n",
        "\n",
        "- We need to process and modify the data into sentence format. This step has to be done for the 'train_sent' and ‘train_label’ datasets and for test datasets as well.\n",
        "-  After that, we need to define the features to build the CRF model.\n",
        "- Then, you need to apply these features in each sentence of the train and the test dataset to get the feature values.\n",
        "- Once the features are computed, you need to define the target variable and then build the CRF model.\n",
        "- Then, we need to perform the evaluation using a test data set.\n",
        "- After that, we need to create a dictionary in which diseases are keys and treatments are values."
      ],
      "metadata": {
        "id": "c9SmfdUInuDv"
      }
    },
    {
      "cell_type": "code",
      "source": [],
      "metadata": {
        "id": "1QRrmcesv631"
      },
      "execution_count": null,
      "outputs": []
    },
    {
      "cell_type": "markdown",
      "source": [
        "## Utils Functions"
      ],
      "metadata": {
        "id": "Zs7KT89KwNvc"
      }
    },
    {
      "cell_type": "markdown",
      "source": [
        "### Preprocessing Functions"
      ],
      "metadata": {
        "id": "fUuuk0pvwUnm"
      }
    },
    {
      "cell_type": "code",
      "source": [
        "# Extract sentence from words\n",
        "def content_extract(file_path='',sep='\\t'):\n",
        "    '''It helps to extract the word based on the separator to form the sentence'''\n",
        "    try:\n",
        "        with open (file_path,'r',encoding='utf-8') as text:\n",
        "            if text.mode  == 'r':\n",
        "                content = text.readlines()\n",
        "        sentence = []\n",
        "        final_sentence=''\n",
        "        for c in content:\n",
        "            content_word = c.strip('\\n')\n",
        "            if content_word == '':\n",
        "                #Once it get matched with separator, it appends previous extracted concatenated string as sentence\n",
        "#                 final_sentence = re.sub('(?<=[\\(]) | (?=[%\\',)])','', final_sentence)\n",
        "                sentence.append(final_sentence.strip(' '))\n",
        "\n",
        "                #Initialize for next sentence\n",
        "                final_sentence=''\n",
        "            else:\n",
        "                # Till the loop identifies the separator it concatenates string\n",
        "                final_sentence+=content_word+' '\n",
        "        print('Total identified value: ',len(sentence),'\\n')\n",
        "        print('Sample display value:\\n',sentence[:5])\n",
        "        return sentence\n",
        "    except FileNotFoundError:\n",
        "        print('Check and provide proper file path')"
      ],
      "metadata": {
        "id": "qQEgS8_IwWIB"
      },
      "execution_count": 4,
      "outputs": []
    },
    {
      "cell_type": "code",
      "source": [],
      "metadata": {
        "id": "s615kK3-wQda"
      },
      "execution_count": null,
      "outputs": []
    },
    {
      "cell_type": "markdown",
      "source": [
        "### Post-processing functions"
      ],
      "metadata": {
        "id": "vJfI9fhJwZk1"
      }
    },
    {
      "cell_type": "code",
      "source": [
        "# A class to retrieve the sentences details from the dataframe\n",
        "class sentencedetail(object):\n",
        "    def __init__(self, data):\n",
        "        self.data = data\n",
        "        self.empty = False\n",
        "        agg_func = lambda s: [(w, p, l) for w, p, l in zip(s[\"word\"].values.tolist(), s[\"pos\"].values.tolist(),s[\"label\"].values.tolist())]\n",
        "        self.grouped = self.data.groupby(\"sentence\").apply(agg_func)\n",
        "        self.sentences = [s for s in self.grouped]"
      ],
      "metadata": {
        "id": "ybgU2jQrwdYJ"
      },
      "execution_count": 5,
      "outputs": []
    },
    {
      "cell_type": "code",
      "source": [],
      "metadata": {
        "id": "ud-EcaBhwfm9"
      },
      "execution_count": null,
      "outputs": []
    },
    {
      "cell_type": "markdown",
      "source": [
        "### Feature Extraction"
      ],
      "metadata": {
        "id": "bHfrXyEawf92"
      }
    },
    {
      "cell_type": "code",
      "source": [
        "# Feature set\n",
        "def word2features(sent, i):\n",
        "    word = sent[i][0]\n",
        "    postag = sent[i][1]\n",
        "\n",
        "    features = {\n",
        "        'bias': 1.0,\n",
        "        'word.lower()': word.lower(),\n",
        "        'word[0]': word[0],\n",
        "        'word[-1]': word[-1],\n",
        "        'word[-2:]': word[-2:],\n",
        "        'word.isupper()': word.isupper(),\n",
        "        'word.istitle()': word.istitle(),\n",
        "        'word.isdigit()': word.isdigit(),\n",
        "        'postag':postag,\n",
        "        'postag_isnounpronoun': postag in ['NOUN','PROPN'],\n",
        "        'postag[:2]': postag[:2],\n",
        "    }\n",
        "    if i > 0:\n",
        "        word1 = sent[i-1][0]\n",
        "        postag1 = sent[i-1][1]\n",
        "        features.update({\n",
        "            '-1:word.lower()': word1.lower(),\n",
        "            '-1:word[0]': word1[0],\n",
        "            '-1:word[-1]': word1[-1],\n",
        "            '-1:word.istitle()': word1.istitle(),\n",
        "            '-1:word.isupper()': word1.isupper(),\n",
        "            '-1:postag': postag1,\n",
        "            '-1:postag[:2]': postag1[:2],\n",
        "            '-1:postag_isnounpronoun': postag1 in ['NOUN','PROPN']\n",
        "        })\n",
        "    else:\n",
        "        features['BOS'] = True\n",
        "\n",
        "    if i < len(sent)-1:\n",
        "        word1 = sent[i+1][0]\n",
        "        postag1 = sent[i+1][1]\n",
        "        features.update({\n",
        "            '+1:word.lower()': word1.lower(),\n",
        "            '+1:word.istitle()': word1.istitle(),\n",
        "            '+1:word.isupper()': word1.isupper(),\n",
        "            '+1:postag': postag1,\n",
        "            '+1:postag[:2]': postag1[:2],\n",
        "            '+1:postag_isnounpronoun': postag1 in ['NOUN','PROPN']\n",
        "        })\n",
        "    else:\n",
        "        features['EOS'] = True\n",
        "\n",
        "    return features"
      ],
      "metadata": {
        "id": "83R3TD0Fwikg"
      },
      "execution_count": 6,
      "outputs": []
    },
    {
      "cell_type": "code",
      "source": [
        "# Define a function to extract features for a sentence.\n",
        "def sent2features(sent):\n",
        "    return [word2features(sent, i) for i in range(len(sent))]"
      ],
      "metadata": {
        "id": "jjyC6LOrwmt8"
      },
      "execution_count": 7,
      "outputs": []
    },
    {
      "cell_type": "code",
      "source": [
        "# Define a function to get the labels for a sentence.\n",
        "def sent2labels(sent):\n",
        "    return [label for token, postag, label in sent]"
      ],
      "metadata": {
        "id": "a2uDai49wmd_"
      },
      "execution_count": 8,
      "outputs": []
    },
    {
      "cell_type": "code",
      "source": [],
      "metadata": {
        "id": "tKi6r81pwrsU"
      },
      "execution_count": null,
      "outputs": []
    },
    {
      "cell_type": "markdown",
      "source": [
        "# Data preprocessing:\n",
        "\n"
      ],
      "metadata": {
        "id": "1OYN87gMw9GQ"
      }
    },
    {
      "cell_type": "markdown",
      "source": [
        "The dataset provided is in the form of one word per line. Let's understand the format of data below:\n",
        "\n",
        "Suppose there are x words in a sentence, then there will be x continuous lines with one word in each line.\n",
        "Further, the two sentences are separated by empty lines. The labels for the data follow the same format.\n",
        "We need to pre-process the data to recover the complete sentences and their labels.\n",
        "\n",
        "The above dataset is about the labels corresponding to the diseases and the treatment. There are three labels that have been used in this dataset: O, D and T, which are corresponding to Other, **Disease** and **Treatment**, respectively."
      ],
      "metadata": {
        "id": "luSv6q_oxAi2"
      }
    },
    {
      "cell_type": "markdown",
      "source": [
        "Construct the proper sentences from individual words and print the 5 sentences.\n",
        "\n",
        "<p>\n",
        "<img src =\"https://images.upgrad.com/2a1ec8a4-e26c-4b5b-bfe0-1816d14a4a30-syntactic%20sol%20pic3.png\" alt='Figure 1'>\n",
        "<center> <b>Figure 1. BookBikes</b> </center> \n",
        " </br>  \n",
        "</p>\n",
        "\n",
        "<p>\n",
        "<img src =\"https://images.upgrad.com/cad61c6d-534f-4452-81e6-dc02d7c8fcde-syntactic%20sol%20pic5.png\" alt='Figure 1'>\n",
        "<center> <b>Figure 1. BookBikes</b> </center> \n",
        " </br>  \n",
        "</p>\n"
      ],
      "metadata": {
        "id": "w52362MJo6xO"
      }
    },
    {
      "cell_type": "code",
      "source": [
        "# Train sentence extraction from dataset\n",
        "train_sent = content_extract(file_path='train_sent',sep='\\n')"
      ],
      "metadata": {
        "colab": {
          "base_uri": "https://localhost:8080/"
        },
        "id": "EJFPhKH1xRKT",
        "outputId": "19f50fc3-ae89-4461-94c4-cf9d9bc36da0"
      },
      "execution_count": 9,
      "outputs": [
        {
          "output_type": "stream",
          "name": "stdout",
          "text": [
            "Total identified value:  2599 \n",
            "\n",
            "Sample display value:\n",
            " ['All live births > or = 23 weeks at the University of Vermont in 1995 ( n = 2395 ) were retrospectively analyzed for delivery route , indication for cesarean , gestational age , parity , and practice group ( to reflect risk status )', 'The total cesarean rate was 14.4 % ( 344 of 2395 ) , and the primary rate was 11.4 % ( 244 of 2144 )', 'Abnormal presentation was the most common indication ( 25.6 % , 88 of 344 )', \"The `` corrected '' cesarean rate ( maternal-fetal medicine and transported patients excluded ) was 12.4 % ( 273 of 2194 ) , and the `` corrected '' primary rate was 9.6 % ( 190 of 1975 )\", \"Arrest of dilation was the most common indication in both `` corrected '' subgroups ( 23.4 and 24.6 % , respectively )\"]\n"
          ]
        }
      ]
    },
    {
      "cell_type": "code",
      "source": [
        "# Train label extraction from dataset\n",
        "train_label = content_extract(file_path='train_label',sep='\\n')"
      ],
      "metadata": {
        "colab": {
          "base_uri": "https://localhost:8080/"
        },
        "id": "_rcnfRAFxLat",
        "outputId": "75fab75a-75a0-440b-933b-189b2ed7719e"
      },
      "execution_count": 10,
      "outputs": [
        {
          "output_type": "stream",
          "name": "stdout",
          "text": [
            "Total identified value:  2599 \n",
            "\n",
            "Sample display value:\n",
            " ['O O O O O O O O O O O O O O O O O O O O O O O O O O O O O O O O O O O O O O O O O O O O O', 'O O O O O O O O O O O O O O O O O O O O O O O O O', 'O O O O O O O O O O O O O O O', 'O O O O O O O O O O O O O O O O O O O O O O O O O O O O O O O O O O O O O O', 'O O O O O O O O O O O O O O O O O O O O O O']\n"
          ]
        }
      ]
    },
    {
      "cell_type": "code",
      "source": [
        "# Test sentence extraction from dataset\n",
        "test_sent = content_extract(file_path='test_sent',sep='\\n')"
      ],
      "metadata": {
        "colab": {
          "base_uri": "https://localhost:8080/"
        },
        "id": "-0EmwgCpw-AT",
        "outputId": "bbee82e4-7e21-4518-9bb2-d8e608700d39"
      },
      "execution_count": 11,
      "outputs": [
        {
          "output_type": "stream",
          "name": "stdout",
          "text": [
            "Total identified value:  1056 \n",
            "\n",
            "Sample display value:\n",
            " ['Furthermore , when all deliveries were analyzed , regardless of risk status but limited to gestational age > or = 36 weeks , the rates did not change ( 12.6 % , 280 of 2214 ; primary 9.2 % , 183 of 1994 )', 'As the ambient temperature increases , there is an increase in insensible fluid loss and the potential for dehydration', 'The daily high temperature ranged from 71 to 104 degrees F and AFI values ranged from 1.7 to 24.7 cm during the study period', 'There was a significant correlation between the 2- , 3- , and 4-day mean temperature and AFI , with the 4-day mean being the most significant ( r = 0.31 , p & # 60 ; 0.001 )', 'Fluctuations in ambient temperature are inversely correlated to changes in AFI']\n"
          ]
        }
      ]
    },
    {
      "cell_type": "code",
      "source": [
        "# Test label extraction from dataset\n",
        "test_label = content_extract(file_path='test_label',sep='\\n')"
      ],
      "metadata": {
        "colab": {
          "base_uri": "https://localhost:8080/"
        },
        "id": "Y6mqzmHKw5XG",
        "outputId": "98334841-7f76-45bc-c63e-1454da95bb02"
      },
      "execution_count": 12,
      "outputs": [
        {
          "output_type": "stream",
          "name": "stdout",
          "text": [
            "Total identified value:  1056 \n",
            "\n",
            "Sample display value:\n",
            " ['O O O O O O O O O O O O O O O O O O O O O O O O O O O O O O O O O O O O O O O O O O O O', 'O O O O O O O O O O O O O O O O O O O', 'O O O O O O O O O O O O O O O O O O O O O O O O', 'O O O O O O O O O O O O O O O O O O O O O O O O O O O O O O O O O O O O O O', 'O O O O O O O O O O O']\n"
          ]
        }
      ]
    },
    {
      "cell_type": "markdown",
      "source": [
        "### Let's extract POS information using SpaCy"
      ],
      "metadata": {
        "id": "HjxWJafuaIkE"
      }
    },
    {
      "cell_type": "code",
      "source": [
        "# Import spacy small library to find medical related entities\n",
        "nlp= spacy.load(\"en_core_web_sm\")"
      ],
      "metadata": {
        "id": "C4h5sBmKaFow"
      },
      "execution_count": 13,
      "outputs": []
    },
    {
      "cell_type": "code",
      "source": [
        "# Dataframe of POS tagging,Lemma word and Label for Train and test sentence\n",
        "train_df = pd.DataFrame(columns=['sentence','word','lemma','pos','label'])\n",
        "test_df = pd.DataFrame(columns=['sentence','word','lemma','pos','label'])"
      ],
      "metadata": {
        "id": "-umLJDR0aFlo"
      },
      "execution_count": 14,
      "outputs": []
    },
    {
      "cell_type": "markdown",
      "source": [
        "Count the number of sentences, number of lines of labels in the processed train and test dataset"
      ],
      "metadata": {
        "id": "H9SXDsAypjun"
      }
    },
    {
      "cell_type": "code",
      "source": [
        "#train datframe\n",
        "\n",
        "i=0 #Sentence count\n",
        "j=0 #Iteration count\n",
        "\n",
        "for sent,label in zip(train_sent,train_label):\n",
        "    i+=1\n",
        "    for s,l in zip(sent.split(),label.split()):\n",
        "        doc = nlp(s)\n",
        "        for tok in doc:\n",
        "            train_df.loc[j,['sentence','word','lemma','pos','label']] = [i,tok.text,tok.lemma_,tok.pos_,l]\n",
        "            j+=1"
      ],
      "metadata": {
        "id": "LRjVYfjbaFiz"
      },
      "execution_count": 15,
      "outputs": []
    },
    {
      "cell_type": "code",
      "source": [
        "#test datframe\n",
        "\n",
        "i=0 #Sentence count\n",
        "j=0 #Iteration count\n",
        "\n",
        "for sent,label in zip(test_sent,test_label):\n",
        "    i+=1\n",
        "    for s,l in zip(sent.split(),label.split()):\n",
        "        doc = nlp(s)\n",
        "        for tok in doc:\n",
        "            test_df.loc[j,['sentence','word','lemma','pos','label']] = [i,tok.text,tok.lemma_,tok.pos_,l]\n",
        "            j+=1"
      ],
      "metadata": {
        "id": "R457aBCOaFfS"
      },
      "execution_count": 16,
      "outputs": []
    },
    {
      "cell_type": "markdown",
      "source": [
        "**Extract those tokens which have NOUN or PROPN as their PoS tag and find their frequency**"
      ],
      "metadata": {
        "id": "3cphGZJraU1F"
      }
    },
    {
      "cell_type": "code",
      "source": [
        "# Word and it's frequency for word which contains NOUN or PROPN as POS tagging\n",
        "freq_df = pd.DataFrame()\n",
        "freq_df = pd.concat((train_df,test_df),axis=0)"
      ],
      "metadata": {
        "id": "fj9mz4OpaUfa"
      },
      "execution_count": 17,
      "outputs": []
    },
    {
      "cell_type": "code",
      "source": [
        "# Resetting index\n",
        "freq_df.reset_index(inplace=True,drop=True)"
      ],
      "metadata": {
        "id": "DIb0Ao7AaUcj"
      },
      "execution_count": 18,
      "outputs": []
    },
    {
      "cell_type": "markdown",
      "source": [
        "**Print the top 25 most common tokens with NOUN or PROPN PoS tags**"
      ],
      "metadata": {
        "id": "nhtmtTNXqAut"
      }
    },
    {
      "cell_type": "code",
      "source": [
        "# Top 25 most frequency values for Train and Test related dataset words\n",
        "freq_df[(freq_df['pos'] == 'NOUN') | ((freq_df['pos'] == 'PROPN'))]['word'].value_counts()[:25]"
      ],
      "metadata": {
        "colab": {
          "base_uri": "https://localhost:8080/"
        },
        "id": "VqNKdiyVaUZq",
        "outputId": "f45fc4fa-dd7a-4a36-da89-564c99332da3"
      },
      "execution_count": 19,
      "outputs": [
        {
          "output_type": "execute_result",
          "data": {
            "text/plain": [
              "patients        492\n",
              "treatment       281\n",
              "cancer          200\n",
              "therapy         175\n",
              "disease         143\n",
              "cell            140\n",
              "lung            116\n",
              "group            94\n",
              "gene             88\n",
              "chemotherapy     88\n",
              "effects          85\n",
              "results          79\n",
              "women            77\n",
              "patient          75\n",
              "TO_SEE           75\n",
              "surgery          71\n",
              "risk             71\n",
              "cases            71\n",
              "analysis         70\n",
              "human            67\n",
              "rate             67\n",
              "response         66\n",
              "survival         65\n",
              "children         64\n",
              "effect           64\n",
              "Name: word, dtype: int64"
            ]
          },
          "metadata": {},
          "execution_count": 19
        }
      ]
    },
    {
      "cell_type": "code",
      "source": [
        "# Top 25 most frequency values for Train and Test related lemma words\n",
        "freq_df[(freq_df['pos'] == 'NOUN') | ((freq_df['pos'] == 'PROPN'))]['lemma'].value_counts()[:25]"
      ],
      "metadata": {
        "colab": {
          "base_uri": "https://localhost:8080/"
        },
        "id": "ySkn1l99aUWx",
        "outputId": "3a45544b-9c60-4768-c242-ee26b0f6da83"
      },
      "execution_count": 20,
      "outputs": [
        {
          "output_type": "execute_result",
          "data": {
            "text/plain": [
              "patient         587\n",
              "treatment       316\n",
              "cancer          226\n",
              "cell            203\n",
              "therapy         182\n",
              "disease         172\n",
              "effect          163\n",
              "case            132\n",
              "group           128\n",
              "lung            120\n",
              "result          118\n",
              "gene            112\n",
              "year            105\n",
              "rate            102\n",
              "trial            91\n",
              "chemotherapy     91\n",
              "woman            89\n",
              "analysis         86\n",
              "protein          82\n",
              "response         81\n",
              "risk             78\n",
              "child            78\n",
              "human            77\n",
              "TO_SEE           75\n",
              "mutation         75\n",
              "Name: lemma, dtype: int64"
            ]
          },
          "metadata": {},
          "execution_count": 20
        }
      ]
    },
    {
      "cell_type": "markdown",
      "source": [
        "**Dataframe (Sentence, word, POS) visualisation**"
      ],
      "metadata": {
        "id": "ZcSe8Uo8aoW3"
      }
    },
    {
      "cell_type": "code",
      "source": [
        "train_df.head(5)"
      ],
      "metadata": {
        "colab": {
          "base_uri": "https://localhost:8080/",
          "height": 206
        },
        "id": "D97tmW6naoD-",
        "outputId": "0485d8e9-9819-4205-d66e-e7592d08c32f"
      },
      "execution_count": 21,
      "outputs": [
        {
          "output_type": "execute_result",
          "data": {
            "text/plain": [
              "  sentence    word  lemma    pos label\n",
              "0        1     All    all   PRON     O\n",
              "1        1    live   live   VERB     O\n",
              "2        1  births  birth   NOUN     O\n",
              "3        1       >      >  PUNCT     O\n",
              "4        1      or     or  CCONJ     O"
            ],
            "text/html": [
              "\n",
              "  <div id=\"df-9ab00e59-b2a0-40ee-b219-c3f6ec674f31\">\n",
              "    <div class=\"colab-df-container\">\n",
              "      <div>\n",
              "<style scoped>\n",
              "    .dataframe tbody tr th:only-of-type {\n",
              "        vertical-align: middle;\n",
              "    }\n",
              "\n",
              "    .dataframe tbody tr th {\n",
              "        vertical-align: top;\n",
              "    }\n",
              "\n",
              "    .dataframe thead th {\n",
              "        text-align: right;\n",
              "    }\n",
              "</style>\n",
              "<table border=\"1\" class=\"dataframe\">\n",
              "  <thead>\n",
              "    <tr style=\"text-align: right;\">\n",
              "      <th></th>\n",
              "      <th>sentence</th>\n",
              "      <th>word</th>\n",
              "      <th>lemma</th>\n",
              "      <th>pos</th>\n",
              "      <th>label</th>\n",
              "    </tr>\n",
              "  </thead>\n",
              "  <tbody>\n",
              "    <tr>\n",
              "      <th>0</th>\n",
              "      <td>1</td>\n",
              "      <td>All</td>\n",
              "      <td>all</td>\n",
              "      <td>PRON</td>\n",
              "      <td>O</td>\n",
              "    </tr>\n",
              "    <tr>\n",
              "      <th>1</th>\n",
              "      <td>1</td>\n",
              "      <td>live</td>\n",
              "      <td>live</td>\n",
              "      <td>VERB</td>\n",
              "      <td>O</td>\n",
              "    </tr>\n",
              "    <tr>\n",
              "      <th>2</th>\n",
              "      <td>1</td>\n",
              "      <td>births</td>\n",
              "      <td>birth</td>\n",
              "      <td>NOUN</td>\n",
              "      <td>O</td>\n",
              "    </tr>\n",
              "    <tr>\n",
              "      <th>3</th>\n",
              "      <td>1</td>\n",
              "      <td>&gt;</td>\n",
              "      <td>&gt;</td>\n",
              "      <td>PUNCT</td>\n",
              "      <td>O</td>\n",
              "    </tr>\n",
              "    <tr>\n",
              "      <th>4</th>\n",
              "      <td>1</td>\n",
              "      <td>or</td>\n",
              "      <td>or</td>\n",
              "      <td>CCONJ</td>\n",
              "      <td>O</td>\n",
              "    </tr>\n",
              "  </tbody>\n",
              "</table>\n",
              "</div>\n",
              "      <button class=\"colab-df-convert\" onclick=\"convertToInteractive('df-9ab00e59-b2a0-40ee-b219-c3f6ec674f31')\"\n",
              "              title=\"Convert this dataframe to an interactive table.\"\n",
              "              style=\"display:none;\">\n",
              "        \n",
              "  <svg xmlns=\"http://www.w3.org/2000/svg\" height=\"24px\"viewBox=\"0 0 24 24\"\n",
              "       width=\"24px\">\n",
              "    <path d=\"M0 0h24v24H0V0z\" fill=\"none\"/>\n",
              "    <path d=\"M18.56 5.44l.94 2.06.94-2.06 2.06-.94-2.06-.94-.94-2.06-.94 2.06-2.06.94zm-11 1L8.5 8.5l.94-2.06 2.06-.94-2.06-.94L8.5 2.5l-.94 2.06-2.06.94zm10 10l.94 2.06.94-2.06 2.06-.94-2.06-.94-.94-2.06-.94 2.06-2.06.94z\"/><path d=\"M17.41 7.96l-1.37-1.37c-.4-.4-.92-.59-1.43-.59-.52 0-1.04.2-1.43.59L10.3 9.45l-7.72 7.72c-.78.78-.78 2.05 0 2.83L4 21.41c.39.39.9.59 1.41.59.51 0 1.02-.2 1.41-.59l7.78-7.78 2.81-2.81c.8-.78.8-2.07 0-2.86zM5.41 20L4 18.59l7.72-7.72 1.47 1.35L5.41 20z\"/>\n",
              "  </svg>\n",
              "      </button>\n",
              "      \n",
              "  <style>\n",
              "    .colab-df-container {\n",
              "      display:flex;\n",
              "      flex-wrap:wrap;\n",
              "      gap: 12px;\n",
              "    }\n",
              "\n",
              "    .colab-df-convert {\n",
              "      background-color: #E8F0FE;\n",
              "      border: none;\n",
              "      border-radius: 50%;\n",
              "      cursor: pointer;\n",
              "      display: none;\n",
              "      fill: #1967D2;\n",
              "      height: 32px;\n",
              "      padding: 0 0 0 0;\n",
              "      width: 32px;\n",
              "    }\n",
              "\n",
              "    .colab-df-convert:hover {\n",
              "      background-color: #E2EBFA;\n",
              "      box-shadow: 0px 1px 2px rgba(60, 64, 67, 0.3), 0px 1px 3px 1px rgba(60, 64, 67, 0.15);\n",
              "      fill: #174EA6;\n",
              "    }\n",
              "\n",
              "    [theme=dark] .colab-df-convert {\n",
              "      background-color: #3B4455;\n",
              "      fill: #D2E3FC;\n",
              "    }\n",
              "\n",
              "    [theme=dark] .colab-df-convert:hover {\n",
              "      background-color: #434B5C;\n",
              "      box-shadow: 0px 1px 3px 1px rgba(0, 0, 0, 0.15);\n",
              "      filter: drop-shadow(0px 1px 2px rgba(0, 0, 0, 0.3));\n",
              "      fill: #FFFFFF;\n",
              "    }\n",
              "  </style>\n",
              "\n",
              "      <script>\n",
              "        const buttonEl =\n",
              "          document.querySelector('#df-9ab00e59-b2a0-40ee-b219-c3f6ec674f31 button.colab-df-convert');\n",
              "        buttonEl.style.display =\n",
              "          google.colab.kernel.accessAllowed ? 'block' : 'none';\n",
              "\n",
              "        async function convertToInteractive(key) {\n",
              "          const element = document.querySelector('#df-9ab00e59-b2a0-40ee-b219-c3f6ec674f31');\n",
              "          const dataTable =\n",
              "            await google.colab.kernel.invokeFunction('convertToInteractive',\n",
              "                                                     [key], {});\n",
              "          if (!dataTable) return;\n",
              "\n",
              "          const docLinkHtml = 'Like what you see? Visit the ' +\n",
              "            '<a target=\"_blank\" href=https://colab.research.google.com/notebooks/data_table.ipynb>data table notebook</a>'\n",
              "            + ' to learn more about interactive tables.';\n",
              "          element.innerHTML = '';\n",
              "          dataTable['output_type'] = 'display_data';\n",
              "          await google.colab.output.renderOutput(dataTable, element);\n",
              "          const docLink = document.createElement('div');\n",
              "          docLink.innerHTML = docLinkHtml;\n",
              "          element.appendChild(docLink);\n",
              "        }\n",
              "      </script>\n",
              "    </div>\n",
              "  </div>\n",
              "  "
            ]
          },
          "metadata": {},
          "execution_count": 21
        }
      ]
    },
    {
      "cell_type": "code",
      "source": [
        "test_df.head(5)"
      ],
      "metadata": {
        "colab": {
          "base_uri": "https://localhost:8080/",
          "height": 206
        },
        "id": "jKvwWbOqaoAn",
        "outputId": "94b962cb-9b6a-49c9-9d24-31a2eae703a4"
      },
      "execution_count": 22,
      "outputs": [
        {
          "output_type": "execute_result",
          "data": {
            "text/plain": [
              "  sentence         word        lemma    pos label\n",
              "0        1  Furthermore  furthermore    ADV     O\n",
              "1        1            ,            ,  PUNCT     O\n",
              "2        1         when         when  SCONJ     O\n",
              "3        1          all          all   PRON     O\n",
              "4        1   deliveries     delivery   NOUN     O"
            ],
            "text/html": [
              "\n",
              "  <div id=\"df-b506dd47-9729-4b4a-9ef1-d78860ac4444\">\n",
              "    <div class=\"colab-df-container\">\n",
              "      <div>\n",
              "<style scoped>\n",
              "    .dataframe tbody tr th:only-of-type {\n",
              "        vertical-align: middle;\n",
              "    }\n",
              "\n",
              "    .dataframe tbody tr th {\n",
              "        vertical-align: top;\n",
              "    }\n",
              "\n",
              "    .dataframe thead th {\n",
              "        text-align: right;\n",
              "    }\n",
              "</style>\n",
              "<table border=\"1\" class=\"dataframe\">\n",
              "  <thead>\n",
              "    <tr style=\"text-align: right;\">\n",
              "      <th></th>\n",
              "      <th>sentence</th>\n",
              "      <th>word</th>\n",
              "      <th>lemma</th>\n",
              "      <th>pos</th>\n",
              "      <th>label</th>\n",
              "    </tr>\n",
              "  </thead>\n",
              "  <tbody>\n",
              "    <tr>\n",
              "      <th>0</th>\n",
              "      <td>1</td>\n",
              "      <td>Furthermore</td>\n",
              "      <td>furthermore</td>\n",
              "      <td>ADV</td>\n",
              "      <td>O</td>\n",
              "    </tr>\n",
              "    <tr>\n",
              "      <th>1</th>\n",
              "      <td>1</td>\n",
              "      <td>,</td>\n",
              "      <td>,</td>\n",
              "      <td>PUNCT</td>\n",
              "      <td>O</td>\n",
              "    </tr>\n",
              "    <tr>\n",
              "      <th>2</th>\n",
              "      <td>1</td>\n",
              "      <td>when</td>\n",
              "      <td>when</td>\n",
              "      <td>SCONJ</td>\n",
              "      <td>O</td>\n",
              "    </tr>\n",
              "    <tr>\n",
              "      <th>3</th>\n",
              "      <td>1</td>\n",
              "      <td>all</td>\n",
              "      <td>all</td>\n",
              "      <td>PRON</td>\n",
              "      <td>O</td>\n",
              "    </tr>\n",
              "    <tr>\n",
              "      <th>4</th>\n",
              "      <td>1</td>\n",
              "      <td>deliveries</td>\n",
              "      <td>delivery</td>\n",
              "      <td>NOUN</td>\n",
              "      <td>O</td>\n",
              "    </tr>\n",
              "  </tbody>\n",
              "</table>\n",
              "</div>\n",
              "      <button class=\"colab-df-convert\" onclick=\"convertToInteractive('df-b506dd47-9729-4b4a-9ef1-d78860ac4444')\"\n",
              "              title=\"Convert this dataframe to an interactive table.\"\n",
              "              style=\"display:none;\">\n",
              "        \n",
              "  <svg xmlns=\"http://www.w3.org/2000/svg\" height=\"24px\"viewBox=\"0 0 24 24\"\n",
              "       width=\"24px\">\n",
              "    <path d=\"M0 0h24v24H0V0z\" fill=\"none\"/>\n",
              "    <path d=\"M18.56 5.44l.94 2.06.94-2.06 2.06-.94-2.06-.94-.94-2.06-.94 2.06-2.06.94zm-11 1L8.5 8.5l.94-2.06 2.06-.94-2.06-.94L8.5 2.5l-.94 2.06-2.06.94zm10 10l.94 2.06.94-2.06 2.06-.94-2.06-.94-.94-2.06-.94 2.06-2.06.94z\"/><path d=\"M17.41 7.96l-1.37-1.37c-.4-.4-.92-.59-1.43-.59-.52 0-1.04.2-1.43.59L10.3 9.45l-7.72 7.72c-.78.78-.78 2.05 0 2.83L4 21.41c.39.39.9.59 1.41.59.51 0 1.02-.2 1.41-.59l7.78-7.78 2.81-2.81c.8-.78.8-2.07 0-2.86zM5.41 20L4 18.59l7.72-7.72 1.47 1.35L5.41 20z\"/>\n",
              "  </svg>\n",
              "      </button>\n",
              "      \n",
              "  <style>\n",
              "    .colab-df-container {\n",
              "      display:flex;\n",
              "      flex-wrap:wrap;\n",
              "      gap: 12px;\n",
              "    }\n",
              "\n",
              "    .colab-df-convert {\n",
              "      background-color: #E8F0FE;\n",
              "      border: none;\n",
              "      border-radius: 50%;\n",
              "      cursor: pointer;\n",
              "      display: none;\n",
              "      fill: #1967D2;\n",
              "      height: 32px;\n",
              "      padding: 0 0 0 0;\n",
              "      width: 32px;\n",
              "    }\n",
              "\n",
              "    .colab-df-convert:hover {\n",
              "      background-color: #E2EBFA;\n",
              "      box-shadow: 0px 1px 2px rgba(60, 64, 67, 0.3), 0px 1px 3px 1px rgba(60, 64, 67, 0.15);\n",
              "      fill: #174EA6;\n",
              "    }\n",
              "\n",
              "    [theme=dark] .colab-df-convert {\n",
              "      background-color: #3B4455;\n",
              "      fill: #D2E3FC;\n",
              "    }\n",
              "\n",
              "    [theme=dark] .colab-df-convert:hover {\n",
              "      background-color: #434B5C;\n",
              "      box-shadow: 0px 1px 3px 1px rgba(0, 0, 0, 0.15);\n",
              "      filter: drop-shadow(0px 1px 2px rgba(0, 0, 0, 0.3));\n",
              "      fill: #FFFFFF;\n",
              "    }\n",
              "  </style>\n",
              "\n",
              "      <script>\n",
              "        const buttonEl =\n",
              "          document.querySelector('#df-b506dd47-9729-4b4a-9ef1-d78860ac4444 button.colab-df-convert');\n",
              "        buttonEl.style.display =\n",
              "          google.colab.kernel.accessAllowed ? 'block' : 'none';\n",
              "\n",
              "        async function convertToInteractive(key) {\n",
              "          const element = document.querySelector('#df-b506dd47-9729-4b4a-9ef1-d78860ac4444');\n",
              "          const dataTable =\n",
              "            await google.colab.kernel.invokeFunction('convertToInteractive',\n",
              "                                                     [key], {});\n",
              "          if (!dataTable) return;\n",
              "\n",
              "          const docLinkHtml = 'Like what you see? Visit the ' +\n",
              "            '<a target=\"_blank\" href=https://colab.research.google.com/notebooks/data_table.ipynb>data table notebook</a>'\n",
              "            + ' to learn more about interactive tables.';\n",
              "          element.innerHTML = '';\n",
              "          dataTable['output_type'] = 'display_data';\n",
              "          await google.colab.output.renderOutput(dataTable, element);\n",
              "          const docLink = document.createElement('div');\n",
              "          docLink.innerHTML = docLinkHtml;\n",
              "          element.appendChild(docLink);\n",
              "        }\n",
              "      </script>\n",
              "    </div>\n",
              "  </div>\n",
              "  "
            ]
          },
          "metadata": {},
          "execution_count": 22
        }
      ]
    },
    {
      "cell_type": "markdown",
      "source": [
        "**Sentense-wise detail dataframe preparation**"
      ],
      "metadata": {
        "id": "L1dbrjJ5awcJ"
      }
    },
    {
      "cell_type": "code",
      "source": [
        "# Fetch detail view of sentence for train set\n",
        "train_sent_obj = sentencedetail(train_df)\n",
        "train_sent_detail = train_sent_obj.sentences"
      ],
      "metadata": {
        "id": "15OFlzUran9v"
      },
      "execution_count": 23,
      "outputs": []
    },
    {
      "cell_type": "code",
      "source": [
        "# Display one sentence detail view for train set\n",
        "train_sent_detail[0]"
      ],
      "metadata": {
        "colab": {
          "base_uri": "https://localhost:8080/"
        },
        "id": "oWythcLFan65",
        "outputId": "dd0db094-6e07-4554-e5a2-22d7b122b99a"
      },
      "execution_count": 24,
      "outputs": [
        {
          "output_type": "execute_result",
          "data": {
            "text/plain": [
              "[('All', 'PRON', 'O'),\n",
              " ('live', 'VERB', 'O'),\n",
              " ('births', 'NOUN', 'O'),\n",
              " ('>', 'PUNCT', 'O'),\n",
              " ('or', 'CCONJ', 'O'),\n",
              " ('=', 'VERB', 'O'),\n",
              " ('23', 'NUM', 'O'),\n",
              " ('weeks', 'NOUN', 'O'),\n",
              " ('at', 'ADP', 'O'),\n",
              " ('the', 'PRON', 'O'),\n",
              " ('University', 'NOUN', 'O'),\n",
              " ('of', 'ADP', 'O'),\n",
              " ('Vermont', 'PROPN', 'O'),\n",
              " ('in', 'ADP', 'O'),\n",
              " ('1995', 'NUM', 'O'),\n",
              " ('(', 'PUNCT', 'O'),\n",
              " ('n', 'CCONJ', 'O'),\n",
              " ('=', 'VERB', 'O'),\n",
              " ('2395', 'NUM', 'O'),\n",
              " (')', 'PUNCT', 'O'),\n",
              " ('were', 'AUX', 'O'),\n",
              " ('retrospectively', 'ADV', 'O'),\n",
              " ('analyzed', 'VERB', 'O'),\n",
              " ('for', 'ADP', 'O'),\n",
              " ('delivery', 'NOUN', 'O'),\n",
              " ('route', 'NOUN', 'O'),\n",
              " (',', 'PUNCT', 'O'),\n",
              " ('indication', 'NOUN', 'O'),\n",
              " ('for', 'ADP', 'O'),\n",
              " ('cesarean', 'VERB', 'O'),\n",
              " (',', 'PUNCT', 'O'),\n",
              " ('gestational', 'ADJ', 'O'),\n",
              " ('age', 'NOUN', 'O'),\n",
              " (',', 'PUNCT', 'O'),\n",
              " ('parity', 'NOUN', 'O'),\n",
              " (',', 'PUNCT', 'O'),\n",
              " ('and', 'CCONJ', 'O'),\n",
              " ('practice', 'VERB', 'O'),\n",
              " ('group', 'NOUN', 'O'),\n",
              " ('(', 'PUNCT', 'O'),\n",
              " ('to', 'PART', 'O'),\n",
              " ('reflect', 'VERB', 'O'),\n",
              " ('risk', 'NOUN', 'O'),\n",
              " ('status', 'NOUN', 'O'),\n",
              " (')', 'PUNCT', 'O')]"
            ]
          },
          "metadata": {},
          "execution_count": 24
        }
      ]
    },
    {
      "cell_type": "code",
      "source": [
        "# Fetch detail view of sentence for train set\n",
        "test_sent_obj = sentencedetail(test_df)\n",
        "test_sent_detail = test_sent_obj.sentences"
      ],
      "metadata": {
        "id": "ssd2OuO9an3_"
      },
      "execution_count": 25,
      "outputs": []
    },
    {
      "cell_type": "code",
      "source": [
        "# Display one sentence detail view for train set\n",
        "test_sent_detail[0]"
      ],
      "metadata": {
        "colab": {
          "base_uri": "https://localhost:8080/"
        },
        "id": "p5COsnv4an1I",
        "outputId": "01ce10d3-a845-4546-df09-6d2b08623976"
      },
      "execution_count": 26,
      "outputs": [
        {
          "output_type": "execute_result",
          "data": {
            "text/plain": [
              "[('Furthermore', 'ADV', 'O'),\n",
              " (',', 'PUNCT', 'O'),\n",
              " ('when', 'SCONJ', 'O'),\n",
              " ('all', 'PRON', 'O'),\n",
              " ('deliveries', 'NOUN', 'O'),\n",
              " ('were', 'AUX', 'O'),\n",
              " ('analyzed', 'VERB', 'O'),\n",
              " (',', 'PUNCT', 'O'),\n",
              " ('regardless', 'ADV', 'O'),\n",
              " ('of', 'ADP', 'O'),\n",
              " ('risk', 'NOUN', 'O'),\n",
              " ('status', 'NOUN', 'O'),\n",
              " ('but', 'CCONJ', 'O'),\n",
              " ('limited', 'VERB', 'O'),\n",
              " ('to', 'PART', 'O'),\n",
              " ('gestational', 'ADJ', 'O'),\n",
              " ('age', 'NOUN', 'O'),\n",
              " ('>', 'PUNCT', 'O'),\n",
              " ('or', 'CCONJ', 'O'),\n",
              " ('=', 'VERB', 'O'),\n",
              " ('36', 'NUM', 'O'),\n",
              " ('weeks', 'NOUN', 'O'),\n",
              " (',', 'PUNCT', 'O'),\n",
              " ('the', 'PRON', 'O'),\n",
              " ('rates', 'NOUN', 'O'),\n",
              " ('did', 'VERB', 'O'),\n",
              " ('not', 'PART', 'O'),\n",
              " ('change', 'VERB', 'O'),\n",
              " ('(', 'PUNCT', 'O'),\n",
              " ('12.6', 'NUM', 'O'),\n",
              " ('%', 'INTJ', 'O'),\n",
              " (',', 'PUNCT', 'O'),\n",
              " ('280', 'NUM', 'O'),\n",
              " ('of', 'ADP', 'O'),\n",
              " ('2214', 'NUM', 'O'),\n",
              " (';', 'PUNCT', 'O'),\n",
              " ('primary', 'NOUN', 'O'),\n",
              " ('9.2', 'NUM', 'O'),\n",
              " ('%', 'INTJ', 'O'),\n",
              " (',', 'PUNCT', 'O'),\n",
              " ('183', 'NUM', 'O'),\n",
              " ('of', 'ADP', 'O'),\n",
              " ('1994', 'NUM', 'O'),\n",
              " (')', 'PUNCT', 'O')]"
            ]
          },
          "metadata": {},
          "execution_count": 26
        }
      ]
    },
    {
      "cell_type": "markdown",
      "source": [
        "# Define input and target variables\n",
        "\n",
        "Correctly computing X and Y sequence matrices for training and test data. Check that both sentences and labels are processed"
      ],
      "metadata": {
        "id": "AnIqDnfOa_Y2"
      }
    },
    {
      "cell_type": "markdown",
      "source": [
        "Define the features' values for each sentence as input variable for CRF model in test and the train dataset"
      ],
      "metadata": {
        "id": "qTn9KNmFqXHP"
      }
    },
    {
      "cell_type": "code",
      "source": [
        "# Prepare X-train and X-test by extracting features from train and test dataset\n",
        "X_train = [sent2features(s) for s in train_sent_detail]\n",
        "X_test = [sent2features(s) for s in test_sent_detail]"
      ],
      "metadata": {
        "id": "qtwXc97la_Ix"
      },
      "execution_count": 27,
      "outputs": []
    },
    {
      "cell_type": "markdown",
      "source": [
        "Define the labels as the target variable for test and the train dataset"
      ],
      "metadata": {
        "id": "-ZPL_88uqaOs"
      }
    },
    {
      "cell_type": "code",
      "source": [
        "# Prepare y-train and y-test by extracting labels from train and test dataset\n",
        "y_train = [sent2labels(l) for l in train_sent_detail]\n",
        "y_test = [sent2labels(l) for l in test_sent_detail]"
      ],
      "metadata": {
        "id": "iGDyJo8Ea_GE"
      },
      "execution_count": 28,
      "outputs": []
    },
    {
      "cell_type": "code",
      "source": [],
      "metadata": {
        "id": "P1TgP3Rqa_De"
      },
      "execution_count": null,
      "outputs": []
    },
    {
      "cell_type": "markdown",
      "source": [
        "# Building the CRF Model using sklearn\n",
        "\n",
        "\n",
        "\n"
      ],
      "metadata": {
        "id": "dKIvoPWvbGCk"
      }
    },
    {
      "cell_type": "code",
      "source": [
        "# Import model and metrics\n",
        "from sklearn_crfsuite import CRF, scorers, metrics"
      ],
      "metadata": {
        "id": "y2WgdG60hIYG"
      },
      "execution_count": 30,
      "outputs": []
    },
    {
      "cell_type": "markdown",
      "source": [
        "Predict the labels of each of the tokens in each sentence of the test dataset that has been pre processed earlier."
      ],
      "metadata": {
        "id": "fkoIcgAlqnuN"
      }
    },
    {
      "cell_type": "code",
      "source": [
        "%%time\n",
        "\n",
        "# Build the CRF model.\n",
        "# crf = CRF(max_iterations=100, c1=1.0, c2=0.01, all_possible_transitions=False)\n",
        "crf = CRF(\n",
        "    algorithm='lbfgs',\n",
        "    c1=0.1,\n",
        "    c2=0.1,\n",
        "    max_iterations=100,\n",
        "    all_possible_transitions=True\n",
        ")\n",
        "\n",
        "# fit the model\n",
        "# crf.fit(X_train, y_train)\n",
        "try:\n",
        "    crf.fit(X_train, y_train)\n",
        "except AttributeError:\n",
        "    pass\n",
        "y_pred = crf.predict(X_test)\n",
        "# predictions = crf.predict(X_test)"
      ],
      "metadata": {
        "colab": {
          "base_uri": "https://localhost:8080/"
        },
        "id": "DnjjZaTNa_Am",
        "outputId": "4c1b5d90-d5b2-40ec-ea0d-9cbe76bbfac3"
      },
      "execution_count": 34,
      "outputs": [
        {
          "output_type": "stream",
          "name": "stdout",
          "text": [
            "CPU times: user 6.18 s, sys: 41.9 ms, total: 6.22 s\n",
            "Wall time: 6.46 s\n"
          ]
        }
      ]
    },
    {
      "cell_type": "code",
      "source": [],
      "metadata": {
        "id": "umxl5Md1a--L"
      },
      "execution_count": null,
      "outputs": []
    },
    {
      "cell_type": "markdown",
      "source": [
        "# Model Evaluation "
      ],
      "metadata": {
        "id": "07bFEgKCbKHx"
      }
    },
    {
      "cell_type": "markdown",
      "source": [
        "Calculate the f1 score using the actual labels and the predicted labels of the test dataset."
      ],
      "metadata": {
        "id": "en-4QbmkqrEG"
      }
    },
    {
      "cell_type": "code",
      "source": [
        "# Calculate the f1 score using the test data\n",
        "# y_pred = crf.predict(X_test)\n",
        "\n",
        "f1_score = metrics.flat_f1_score(y_test, y_pred, average='weighted')\n",
        "print('Predicted F1-score for Medical Entity Dataset is: {0} % '.format(round(f1_score*100,2)))"
      ],
      "metadata": {
        "colab": {
          "base_uri": "https://localhost:8080/"
        },
        "id": "-AdsLFm9a-7K",
        "outputId": "8726120d-f08b-49ee-bc4e-bcb72d5d17d2"
      },
      "execution_count": 35,
      "outputs": [
        {
          "output_type": "stream",
          "name": "stdout",
          "text": [
            "Predicted F1-score for Medical Entity Dataset is: 92.5 % \n"
          ]
        }
      ]
    },
    {
      "cell_type": "code",
      "source": [],
      "metadata": {
        "id": "Xu6j9cmua-4b"
      },
      "execution_count": null,
      "outputs": []
    },
    {
      "cell_type": "markdown",
      "source": [
        "# Predict Disease and Treatment"
      ],
      "metadata": {
        "id": "1P5eyHmHbT4O"
      }
    },
    {
      "cell_type": "code",
      "source": [
        "# Taken out predicted label from the model\n",
        "pred_label=[]\n",
        "for i in y_pred:\n",
        "    pred_label.extend(i)"
      ],
      "metadata": {
        "id": "zP4NaSi6aUUH"
      },
      "execution_count": 36,
      "outputs": []
    },
    {
      "cell_type": "code",
      "source": [
        "# Loaded into test dataframe\n",
        "test_df['label_predicted'] = pred_label"
      ],
      "metadata": {
        "id": "bxUyiR-vaURI"
      },
      "execution_count": 37,
      "outputs": []
    },
    {
      "cell_type": "code",
      "source": [
        "# Visualise top 5 data\n",
        "test_df.head(5)"
      ],
      "metadata": {
        "colab": {
          "base_uri": "https://localhost:8080/",
          "height": 206
        },
        "id": "lj5WIg1_aUN_",
        "outputId": "8f16dc6b-65a0-42ae-b43d-e468860118d8"
      },
      "execution_count": 38,
      "outputs": [
        {
          "output_type": "execute_result",
          "data": {
            "text/plain": [
              "  sentence         word        lemma    pos label label_predicted\n",
              "0        1  Furthermore  furthermore    ADV     O               O\n",
              "1        1            ,            ,  PUNCT     O               O\n",
              "2        1         when         when  SCONJ     O               O\n",
              "3        1          all          all   PRON     O               O\n",
              "4        1   deliveries     delivery   NOUN     O               O"
            ],
            "text/html": [
              "\n",
              "  <div id=\"df-e0b9c941-a9c3-456c-b123-722a89f9448d\">\n",
              "    <div class=\"colab-df-container\">\n",
              "      <div>\n",
              "<style scoped>\n",
              "    .dataframe tbody tr th:only-of-type {\n",
              "        vertical-align: middle;\n",
              "    }\n",
              "\n",
              "    .dataframe tbody tr th {\n",
              "        vertical-align: top;\n",
              "    }\n",
              "\n",
              "    .dataframe thead th {\n",
              "        text-align: right;\n",
              "    }\n",
              "</style>\n",
              "<table border=\"1\" class=\"dataframe\">\n",
              "  <thead>\n",
              "    <tr style=\"text-align: right;\">\n",
              "      <th></th>\n",
              "      <th>sentence</th>\n",
              "      <th>word</th>\n",
              "      <th>lemma</th>\n",
              "      <th>pos</th>\n",
              "      <th>label</th>\n",
              "      <th>label_predicted</th>\n",
              "    </tr>\n",
              "  </thead>\n",
              "  <tbody>\n",
              "    <tr>\n",
              "      <th>0</th>\n",
              "      <td>1</td>\n",
              "      <td>Furthermore</td>\n",
              "      <td>furthermore</td>\n",
              "      <td>ADV</td>\n",
              "      <td>O</td>\n",
              "      <td>O</td>\n",
              "    </tr>\n",
              "    <tr>\n",
              "      <th>1</th>\n",
              "      <td>1</td>\n",
              "      <td>,</td>\n",
              "      <td>,</td>\n",
              "      <td>PUNCT</td>\n",
              "      <td>O</td>\n",
              "      <td>O</td>\n",
              "    </tr>\n",
              "    <tr>\n",
              "      <th>2</th>\n",
              "      <td>1</td>\n",
              "      <td>when</td>\n",
              "      <td>when</td>\n",
              "      <td>SCONJ</td>\n",
              "      <td>O</td>\n",
              "      <td>O</td>\n",
              "    </tr>\n",
              "    <tr>\n",
              "      <th>3</th>\n",
              "      <td>1</td>\n",
              "      <td>all</td>\n",
              "      <td>all</td>\n",
              "      <td>PRON</td>\n",
              "      <td>O</td>\n",
              "      <td>O</td>\n",
              "    </tr>\n",
              "    <tr>\n",
              "      <th>4</th>\n",
              "      <td>1</td>\n",
              "      <td>deliveries</td>\n",
              "      <td>delivery</td>\n",
              "      <td>NOUN</td>\n",
              "      <td>O</td>\n",
              "      <td>O</td>\n",
              "    </tr>\n",
              "  </tbody>\n",
              "</table>\n",
              "</div>\n",
              "      <button class=\"colab-df-convert\" onclick=\"convertToInteractive('df-e0b9c941-a9c3-456c-b123-722a89f9448d')\"\n",
              "              title=\"Convert this dataframe to an interactive table.\"\n",
              "              style=\"display:none;\">\n",
              "        \n",
              "  <svg xmlns=\"http://www.w3.org/2000/svg\" height=\"24px\"viewBox=\"0 0 24 24\"\n",
              "       width=\"24px\">\n",
              "    <path d=\"M0 0h24v24H0V0z\" fill=\"none\"/>\n",
              "    <path d=\"M18.56 5.44l.94 2.06.94-2.06 2.06-.94-2.06-.94-.94-2.06-.94 2.06-2.06.94zm-11 1L8.5 8.5l.94-2.06 2.06-.94-2.06-.94L8.5 2.5l-.94 2.06-2.06.94zm10 10l.94 2.06.94-2.06 2.06-.94-2.06-.94-.94-2.06-.94 2.06-2.06.94z\"/><path d=\"M17.41 7.96l-1.37-1.37c-.4-.4-.92-.59-1.43-.59-.52 0-1.04.2-1.43.59L10.3 9.45l-7.72 7.72c-.78.78-.78 2.05 0 2.83L4 21.41c.39.39.9.59 1.41.59.51 0 1.02-.2 1.41-.59l7.78-7.78 2.81-2.81c.8-.78.8-2.07 0-2.86zM5.41 20L4 18.59l7.72-7.72 1.47 1.35L5.41 20z\"/>\n",
              "  </svg>\n",
              "      </button>\n",
              "      \n",
              "  <style>\n",
              "    .colab-df-container {\n",
              "      display:flex;\n",
              "      flex-wrap:wrap;\n",
              "      gap: 12px;\n",
              "    }\n",
              "\n",
              "    .colab-df-convert {\n",
              "      background-color: #E8F0FE;\n",
              "      border: none;\n",
              "      border-radius: 50%;\n",
              "      cursor: pointer;\n",
              "      display: none;\n",
              "      fill: #1967D2;\n",
              "      height: 32px;\n",
              "      padding: 0 0 0 0;\n",
              "      width: 32px;\n",
              "    }\n",
              "\n",
              "    .colab-df-convert:hover {\n",
              "      background-color: #E2EBFA;\n",
              "      box-shadow: 0px 1px 2px rgba(60, 64, 67, 0.3), 0px 1px 3px 1px rgba(60, 64, 67, 0.15);\n",
              "      fill: #174EA6;\n",
              "    }\n",
              "\n",
              "    [theme=dark] .colab-df-convert {\n",
              "      background-color: #3B4455;\n",
              "      fill: #D2E3FC;\n",
              "    }\n",
              "\n",
              "    [theme=dark] .colab-df-convert:hover {\n",
              "      background-color: #434B5C;\n",
              "      box-shadow: 0px 1px 3px 1px rgba(0, 0, 0, 0.15);\n",
              "      filter: drop-shadow(0px 1px 2px rgba(0, 0, 0, 0.3));\n",
              "      fill: #FFFFFF;\n",
              "    }\n",
              "  </style>\n",
              "\n",
              "      <script>\n",
              "        const buttonEl =\n",
              "          document.querySelector('#df-e0b9c941-a9c3-456c-b123-722a89f9448d button.colab-df-convert');\n",
              "        buttonEl.style.display =\n",
              "          google.colab.kernel.accessAllowed ? 'block' : 'none';\n",
              "\n",
              "        async function convertToInteractive(key) {\n",
              "          const element = document.querySelector('#df-e0b9c941-a9c3-456c-b123-722a89f9448d');\n",
              "          const dataTable =\n",
              "            await google.colab.kernel.invokeFunction('convertToInteractive',\n",
              "                                                     [key], {});\n",
              "          if (!dataTable) return;\n",
              "\n",
              "          const docLinkHtml = 'Like what you see? Visit the ' +\n",
              "            '<a target=\"_blank\" href=https://colab.research.google.com/notebooks/data_table.ipynb>data table notebook</a>'\n",
              "            + ' to learn more about interactive tables.';\n",
              "          element.innerHTML = '';\n",
              "          dataTable['output_type'] = 'display_data';\n",
              "          await google.colab.output.renderOutput(dataTable, element);\n",
              "          const docLink = document.createElement('div');\n",
              "          docLink.innerHTML = docLinkHtml;\n",
              "          element.appendChild(docLink);\n",
              "        }\n",
              "      </script>\n",
              "    </div>\n",
              "  </div>\n",
              "  "
            ]
          },
          "metadata": {},
          "execution_count": 38
        }
      ]
    },
    {
      "cell_type": "code",
      "source": [],
      "metadata": {
        "id": "Wr6oNjjAaFcZ"
      },
      "execution_count": null,
      "outputs": []
    },
    {
      "cell_type": "markdown",
      "source": [
        "##Identifying Diseases and Treatments using Custom NER\n",
        "We now use the CRF model's prediction to prepare a record of diseases identified in the corpus and treatments used for the diseases."
      ],
      "metadata": {
        "id": "tDFez-vabc07"
      }
    },
    {
      "cell_type": "markdown",
      "source": [
        "**Create the logic to get all the predicted treatments (T) labels corresponding to each disease (D) label in the test dataset.**\n",
        "\n",
        "<p>\n",
        "<img src =\"https://images.upgrad.com/0891d77b-b9ca-4e9d-8934-d9a9b078a51c-syntactic%20sol%20pic1.png\" alt='Figure 1'>\n",
        "<center> <b>Figure 1. BookBikes</b> </center> \n",
        " </br>  \n",
        "</p>\n"
      ],
      "metadata": {
        "id": "IaInwBEGq38C"
      }
    },
    {
      "cell_type": "code",
      "source": [
        "# Preparing dictionary by keeping Disease as unique Key element and Treatment as value element\n",
        "new_df =test_df[(test_df['label_predicted'] != 'O')]\n",
        "new_df.set_index('sentence',inplace=True)\n",
        "disease=[]\n",
        "treatment=[]\n",
        "sentence=[]\n",
        "med_dict = {}\n",
        "for i in new_df.index.unique():\n",
        "    try:\n",
        "        val = new_df.loc[i,'label_predicted'].unique()\n",
        "        if len(val) == 2:\n",
        "            disease_val = new_df[new_df['label_predicted'] == 'D'].loc[i,'word']\n",
        "            treatment_val = new_df[new_df['label_predicted'] == 'T'].loc[i,'word']\n",
        "            disease_single = disease_val if type(disease_val) == str else \" \".join(disease_val)\n",
        "            treatment_single = treatment_val if type(treatment_val) == str else \" \".join(treatment_val)\n",
        "            if disease_single not in disease:\n",
        "                med_dict[disease_single] = treatment_single\n",
        "            else:\n",
        "                print('Entered')\n",
        "                med_dict[disease_single] = med_dict.get(disease_single)+'/'+treatment_single\n",
        "    except AttributeError:\n",
        "        pass"
      ],
      "metadata": {
        "id": "2zb1s18OberF"
      },
      "execution_count": 39,
      "outputs": []
    },
    {
      "cell_type": "code",
      "source": [
        "print(med_dict)"
      ],
      "metadata": {
        "colab": {
          "base_uri": "https://localhost:8080/"
        },
        "id": "Rlswx9GmbiM5",
        "outputId": "829fe1a3-3c90-4743-928b-49425ddbf85c"
      },
      "execution_count": 40,
      "outputs": [
        {
          "output_type": "stream",
          "name": "stdout",
          "text": [
            "{'macrosomic infants in gestational diabetes cases': 'good glycemic control', 'nonimmune hydrops fetalis': 'Trisomy', 'retinoblastoma': 'radiotherapy', 'epilepsy': 'Methylphenidate', 'unstable angina or non - Q - wave myocardial infarction': 'roxithromycin', 'coronary - artery disease': 'Antichlamydial antibiotics', 'primary pulmonary hypertension ( PPH )': 'fenfluramines', 'essential hypertension': 'moxonidine `', 'cellulitis': 'G - CSF therapy intravenous antibiotic treatment', 'foot infection in diabetic patients': 'G - CSF treatment', 'hemorrhagic stroke': 'double - bolus alteplase accelerated infusion of alteplase ( P=0.24', 'cardiac disease': 'fenfluramine - phentermine', 'rheumatoid arthritis': 'arthrodesis', \"early Parkinson 's disease\": 'Ropinirole monotherapy', 'sore throat': 'Antibiotics', \"Crohn 's disease\": 'steroids', 'stress urinary incontinence': 'surgical procedures', 'female stress urinary incontinence': 'surgical treatment', 'preeclampsia ( proteinuric hypertension )': 'intrauterine insemination with donor sperm intrauterine insemination', 'mild preeclampsia preeclampsia': 'partner insemination program donor insemination program', 'hyperammonemia cancer': 'organ transplantation and chemotherapy', 'major pulmonary embolism': 'thrombolytic treatment', 'malignant pleural mesothelioma': 'thoracotomy , radiotherapy , and chemotherapy', 'tumor necrosis TSS': 'interferon - gamma', 'pulmonary symptoms mediastinal teratomas': 'chemotherapy', 'non - obstructive azoospermia': 'TEFNA', 'testicular bleeding': 'fine needle aspiration', 'heart failure': 'beta - blockade', 'acute migraine treatment': 'Sumatriptan', 'duodenal ulcer': 'Measured subtotal gastrectomy', 'colorectal cancer': 'docosahexanoic acid ( DHA ) -concentrated fish oil capsules', 'gastrointestinal tumours': 'Elective surgery', 'primary pulmonary hypertension': 'fenfluramine', 'restenosis': 'coronary angioplasty', \"oral Crohn 's disease\": 'Thalidomide', 'bronchial asthma': 'Non - steroidal anti - inflammatory therapy', 'splenic rupture': 'granulocyte colony - stimulating factor ( G - CSF )', \"Parkinson 's disease\": 'Microelectrode - guided posteroventral pallidotomy', 'Alopecia': 'tacrolimus therapy', 'cardiac insufficiency': 'beta - blockers', 'Cranial nerve injuries': 'persistent conduction blocks', \"Eisenmenger 's syndrome\": 'laparoscopic cholecystectomy', 'breast cancer': 'subcutaneous mastectomy', 'severe psoriasis': 'systemic treatments', 'non - seminomatous germ - cell tumors': 'chemotherapy', 'pre - established metastases': 'adenovirus - mediated interleukin 12 ( il-12 ) gene therapy', 'malignant tumors such as non - small cell lung cancer': 'surgery', 'inflammatory skin diseases': 'topical corticosteroids', 'cancer unresectable stage iii nsclc': 'sequential chemotherapy followed by radiation', 'nsclc nsclc ( stage iiib ) sclc': 'got surgical treatment radiotherapy', 'nsclc': 'chemotherapy', 'bos': 'concurrent acute rejection , therapy with extracorporeal photopheresis', 'locally advanced non - small - cell lung cancer ( la - nsclc )': 'combined - modality therapy ( cmt ; chemotherapy and radiotherapy )', 'radiation - induced myelopathy': 'heparin and enoxaparin', 'regionally advanced disease': 'resection , allowing neoadjuvant therapy', 'malignant pleural effusions from nsclc': 'systemic chemotherapy', 'supraclavicular node metastases in nsclc': 'chemoradiotherapy', 'non - small - cell - lung - cancer ( nsclc )': 'cisplatin and radiotherapy', 'lung carcinoma': 'curative therapy', 'single non - sclc melanoma ovarian carcinoma brain metastasis': 'surgical resection', 'colorectal metastases': 'therapeutic vats metastasectomy', 'limited - stage small - cell carcinoma of the lung': 'combined - modality therapy', 'advanced nsclc': 'combination chemotherapy of cisplatin , ifosfamide and irinotecan with rhg - csf support', 'metastatic colorectal cancer': 'intravenous oxaliplatin', \"non - hodgkin 's lymphoma breast cancer mesothelioma and non - small cell lung cancer\": 'oxaliplatin', 'primary tumor ( li ) bronchogenic carcinoma': 'resection', 'non - small cell lung cancer hormone refractory prostate cancer': 'paclitaxel and carboplatin', 'primary lung cancer adenocarcinoma ( ad ) squamous cell carcinoma': 'resection', 'stage iii nsclc': 'chemotherapy surgery', 'small - cell lung cancer': 'combination chemotherapy', 'symptomatic metastases': 'radiotherapy', 'primary cancer': 'adjuvant radiation therapy', 'advanced non -- small - cell lung cancer': 'paclitaxel plus carboplatin ( pc ) vinorelbine plus cisplatin ( vc )', 'sclc extensive disease': 'platinum dose ( cisplatin plus carboplatin ) in combination chemotherapy combination therapy with carboplatin', 'untreated small cell lung cancer ( sclc ) untreated sclc': 'technetium-99 m tetrofosmin ( tc - tf ) accumulation chemotherapy', 'neutropenia': 'recombinant human granulocyte colony - stimulating factor ( rhg - csf ) cancer chemotherapy', 'head and neck cancer xerostomia': 'irradiation therapy', 'psoriasis': 'topical therapy', 'disseminated malignant melanoma': 'leukocyte A recombinant interferon ( rIFN - alpha A , Roferon - A', 'advanced stage ( TNM IIB - IVB ) mycosis fungoides': 'combination chemotherapy program consisting of bleomycin and methotrexate weekly', 'ventricular tachycardia': 'surgical therapy', 'non - functioning endocrine pancreatic tumor with progressive liver and lymph node metastases': 'i.m . lanreotide therapy', 'cholestasis': 'Inchinko - to ( TJ-135 ) crude drugs', 'severe acute hepatitis accompanying cholestasis autoimmune hepatitis': 'TJ-135', 'syringomyelia spinal adhesive arachnoiditis': 'Surgical management', 'symptomatic bronchiectasis': 'antibiotics , antibronchoobstructive medication', 'bronchiectasis': 'Current surgical therapy', 'biliary colic symptoms biliary dyskinesia': 'cholecystectomy', 'biliary dyskinesia': 'Cholecystectomy', 'paranasal sinuses common cold': 'pseudoephedrine plus acetaminophen', 'inflammation': 'video - assisted thoracoscopic surgery', 'Pneumocystis carinii pneumonia': 'trimethoprim - sulfamethoxazole', 'acute nasopharyngitis': 'antibiotic treatment', 'common cold': 'Macrolide antibiotics', 'infection': 'antileukemic therapy', 'pre - antibiotic era multidrug resistant TB': 'Therapeutic pneumothorax ( TP', 'influenza breast cancer': 'vaccination', 'mouse - adopted strain of influenza A2 ( H2N2 ) virus': 'Gingyo - san', 'carcinoma': 'esophagectomy', 'persistent asthma': 'corticosteroids', 'asthma': 'Fluticasone propionate', 'chronic hepatitis C': 'Combination therapy with interferon - alpha ( IFN alpha ) plus Ribavirin', 'hepatitis C viremia': 'combination therapy', 'duodenogastric reflux': 'cholecystectomy', 'severe hypoxemia': 'mechanical ventilation glucocorticoid pulse therapy', 'AOM drug - resistant S. pneumoniae': 'Amoxicillin remains the antibiotic of choice', 'bacterial meningitis Haemophilus influenzae meningitis': 'antibiotic - resistant strains', 'bacterial meningitis': 'vaccines', 'macular degeneration ( AMD )': 'external beam radiation therapy', 'acute myocardial infarction': 'thrombolytic treatment', 'depression hyponatremia': 'venlafaxine', 'ischemic heart disease': 'Aortocoronary bypass grafting', 's.c . tumors peritoneal tumors': 'Subcutaneous injection of irradiated LLC - IL2 did not', 'acute occlusion of the middle cerebral artery large embolus or high - grade stenosis': 'thrombolytic therapy', 'autoimmune diseases': 'High - dose intravenous immunoglobulin ( hdIVIg )', 'cancer': 'Matrix metalloproteinase inhibitors', 'large - bowel cancer': 'oral UFT', 'phaeochromocytoma': 'Adrenalectomy', 'malignant melanoma': 'single agent therapy interferon alfa-2a', 'advanced renal cell carcinoma': 'various interferon alpha preparations interferon alfa - N1 , interferon alfa-2a interferon alfa-2b', \"low - grade non - Hodgkin 's lymphoma\": 'interferon alpha', \"low - grade non - Hodgkin 's lymphomas\": 'interferon interferon', 'partial seizures': 'lamotrigine monotherapy', 'esophageal achalasia': 'botulinum toxin injection , pneumatic dilation laparoscopic myotomy', 'abnormal uterine bleeding': 'therapeutic hysteroscopy', 'irritable bowel syndrome': 'Chinese herbal medicine', 'proximal hypospadias': 'Tubularized incised plate hypospadias repair', 'prostate cancer': 'radical prostatectomy and iodine 125 interstitial radiotherapy', 'sickle cell disease': 'hydroxyurea', 'stroke': 'Statins', 'mitomycin - resistant bladder cancer': 'photodynamic therapy in combination with mitomycin C', 'B16 melanoma': 'adenosine triphosphate and treatment with buthionine sulfoximine', 'advanced rectal cancer': 'Nerve - sparing surgery', 'spontaneous pneumothorax': 'Thoracoscopic surgery', 'empyema': 'Thoracoscopy', 'acute cerebral ischemia': 'Antiplatelet therapy', 'renal cell carcinoma': 'Interferon treatment', \"Barrett 's esophagus\": 'Acid suppression therapy', 'autoimmune hemolytic anemia': 'heparin', 'ovarian cancer': 'chemotherapy', 'stroke brain hemorrhage atrial fibrillation': 'Antiplatelet therapy', 'lymphoma': 'Paclitaxel', 'renovascular hypertension': 'Percutaneous transluminal angioplasty', 'moderately symptomatic benign prostatic hyperplasia': 'surgical resection', 'pulmonary hypertension': 'Single or double lung transplantation', 'multiple sclerosis': 'Intravenous immunoglobulin treatment', 'acoustic neuroma': 'Stereotactic radiosurgery', 'cerebral palsy': 'Hyperbaric oxygen therapy', 'postvitrectomy diabetic vitreous hemorrhage': 'Peripheral retinal cryotherapy', 'acute carbon monoxide poisoning': 'Hyperbaric or normobaric oxygen', 'hepatitis B': 'vaccine', 'pertussis': 'vaccines', 'migraine': 'sumatriptan', 'perioperative mortality and myocardial infarction': 'vascular surgery', 'severe secondary peritonitis': 'Surgical management', 'hepatic metastases from colorectal cancer': 'Hepatic arterial infusion of chemotherapy', 'epithelial ovarian cancer': 'High - dose chemotherapy with autologous stem - cell support', 'multiple myeloma': 'chemoradiotherapy with autologous stem - cell support'}\n"
          ]
        }
      ]
    },
    {
      "cell_type": "code",
      "source": [],
      "metadata": {
        "id": "V-8Iyuz5biKS"
      },
      "execution_count": null,
      "outputs": []
    },
    {
      "cell_type": "markdown",
      "source": [
        "**Predict the treatment for the disease name: 'hereditary retinoblastoma'**"
      ],
      "metadata": {
        "id": "y4M3bPJ2rQSg"
      }
    },
    {
      "cell_type": "code",
      "source": [
        "#Predict treatment withthe help of dictionary\n",
        "d=[]\n",
        "disease=''\n",
        "test_sent=[]\n",
        "treatment=''\n",
        "\n",
        "input_sent = 'hereditary retinoblastoma'\n",
        "m = spacy.load('en_core_web_sm')\n",
        "doc = m(input_sent)\n",
        "for i in doc:\n",
        "    d.append((i.text,i.pos_,'D'))\n",
        "test_sent.append(sent2features(d))\n",
        "for i,tag in enumerate(crf.predict(test_sent)[0]):\n",
        "    if tag == 'D':\n",
        "        tr = input_sent.split()[i]\n",
        "        disease += tr\n",
        "        if tr in med_dict:\n",
        "            treatment += ''+med_dict.get(tr)\n",
        "if len(treatment) == 0:\n",
        "    treatment='None'\n",
        "print('Identified Disease: ',disease)\n",
        "print('Identified Treatment: ', treatment)"
      ],
      "metadata": {
        "colab": {
          "base_uri": "https://localhost:8080/"
        },
        "id": "6PaobAzWbiHr",
        "outputId": "33320dde-e9e5-40f3-d8f2-6a684f4115b0"
      },
      "execution_count": 46,
      "outputs": [
        {
          "output_type": "stream",
          "name": "stdout",
          "text": [
            "Identified Disease:  retinoblastoma\n",
            "Identified Treatment:  radiotherapy\n"
          ]
        }
      ]
    },
    {
      "cell_type": "code",
      "source": [],
      "metadata": {
        "id": "7ZL2Yx7fbiE0"
      },
      "execution_count": null,
      "outputs": []
    },
    {
      "cell_type": "code",
      "source": [],
      "metadata": {
        "id": "kOieBS8cbh9V"
      },
      "execution_count": null,
      "outputs": []
    },
    {
      "cell_type": "code",
      "source": [],
      "metadata": {
        "id": "LYLj8Pbobh7Q"
      },
      "execution_count": null,
      "outputs": []
    },
    {
      "cell_type": "code",
      "source": [],
      "metadata": {
        "id": "-MgVHMzQbh3q"
      },
      "execution_count": null,
      "outputs": []
    },
    {
      "cell_type": "code",
      "source": [],
      "metadata": {
        "id": "MbBkpUa9bh08"
      },
      "execution_count": null,
      "outputs": []
    }
  ],
  "metadata": {
    "kernelspec": {
      "display_name": "Python 3",
      "language": "python",
      "name": "python3"
    },
    "language_info": {
      "codemirror_mode": {
        "name": "ipython",
        "version": 3
      },
      "file_extension": ".py",
      "mimetype": "text/x-python",
      "name": "python",
      "nbconvert_exporter": "python",
      "pygments_lexer": "ipython3",
      "version": "3.8.5"
    },
    "colab": {
      "provenance": []
    }
  },
  "nbformat": 4,
  "nbformat_minor": 0
}